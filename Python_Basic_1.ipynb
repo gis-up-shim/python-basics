{
  "nbformat": 4,
  "nbformat_minor": 0,
  "metadata": {
    "colab": {
      "provenance": [],
      "collapsed_sections": [
        "W26Pxl2jWhnZ",
        "L2VGdgh6Yf37",
        "gSNypFWEcvC6",
        "gDMIKKxaep2K",
        "uMdRu_aohFGN",
        "p_s1YJj6jEf5"
      ],
      "authorship_tag": "ABX9TyMWCjbacQ6BO3pgL/lxfimv",
      "include_colab_link": true
    },
    "kernelspec": {
      "name": "python3",
      "display_name": "Python 3"
    },
    "language_info": {
      "name": "python"
    }
  },
  "cells": [
    {
      "cell_type": "markdown",
      "metadata": {
        "id": "view-in-github",
        "colab_type": "text"
      },
      "source": [
        "<a href=\"https://colab.research.google.com/github/gis-up-shim/python-basics/blob/main/Python_Basic_1.ipynb\" target=\"_parent\"><img src=\"https://colab.research.google.com/assets/colab-badge.svg\" alt=\"Open In Colab\"/></a>"
      ]
    },
    {
      "cell_type": "markdown",
      "source": [
        "# Python 기초 문법\n",
        "\n",
        "자료 출처: 점프 투 파이썬(https://wikidocs.net/book/1)"
      ],
      "metadata": {
        "id": "W26Pxl2jWhnZ"
      }
    },
    {
      "cell_type": "markdown",
      "source": [
        "## 1. 사칙연산"
      ],
      "metadata": {
        "id": "mG0voOSBXDU2"
      }
    },
    {
      "cell_type": "code",
      "source": [
        "1+1"
      ],
      "metadata": {
        "id": "RzKdykHnV9gU",
        "colab": {
          "base_uri": "https://localhost:8080/"
        },
        "outputId": "c822f9a4-d8cd-45a5-e0af-69d9222d8c5e"
      },
      "execution_count": 3,
      "outputs": [
        {
          "output_type": "execute_result",
          "data": {
            "text/plain": [
              "2"
            ]
          },
          "metadata": {},
          "execution_count": 3
        }
      ]
    },
    {
      "cell_type": "markdown",
      "source": [
        "## 2. 변수 대입과 계산"
      ],
      "metadata": {
        "id": "Gl9xou8KXION"
      }
    },
    {
      "cell_type": "code",
      "source": [
        "a = 1\n",
        "b = 2"
      ],
      "metadata": {
        "id": "-A_VnYgZXNjA"
      },
      "execution_count": 4,
      "outputs": []
    },
    {
      "cell_type": "code",
      "source": [
        "a+b"
      ],
      "metadata": {
        "colab": {
          "base_uri": "https://localhost:8080/"
        },
        "id": "cwrj_46UXNQX",
        "outputId": "4beeb826-eec4-41bf-ff7e-83cf69646022"
      },
      "execution_count": 5,
      "outputs": [
        {
          "output_type": "execute_result",
          "data": {
            "text/plain": [
              "3"
            ]
          },
          "metadata": {},
          "execution_count": 5
        }
      ]
    },
    {
      "cell_type": "markdown",
      "source": [
        "## 3. 변수 문자 대입과 출력 "
      ],
      "metadata": {
        "id": "Os1_w0zEVatP"
      }
    },
    {
      "cell_type": "code",
      "source": [
        "a = \"Hello World\"\n",
        "print(a)"
      ],
      "metadata": {
        "colab": {
          "base_uri": "https://localhost:8080/"
        },
        "id": "s0IV_zhfXiou",
        "outputId": "e9759dfb-e974-4f66-ee86-5fba9b489220"
      },
      "execution_count": 6,
      "outputs": [
        {
          "output_type": "stream",
          "name": "stdout",
          "text": [
            "Hello World\n"
          ]
        }
      ]
    },
    {
      "cell_type": "markdown",
      "source": [
        "## 4. 조건문"
      ],
      "metadata": {
        "id": "piJJ0S9vXo7f"
      }
    },
    {
      "cell_type": "code",
      "source": [
        "a = 0\n",
        "if a > 1:\n",
        "  print(\"a is greater than 1\")\n"
      ],
      "metadata": {
        "id": "NBeTf4zFXtMx"
      },
      "execution_count": 12,
      "outputs": []
    },
    {
      "cell_type": "markdown",
      "source": [
        "## 5. 반복문"
      ],
      "metadata": {
        "id": "qlCo9dQ_XzsX"
      }
    },
    {
      "cell_type": "code",
      "source": [
        "for a in [1, 2, 3]:\n",
        "  print(a)"
      ],
      "metadata": {
        "colab": {
          "base_uri": "https://localhost:8080/"
        },
        "id": "CM_2BMsWYCZD",
        "outputId": "5f9d55f6-4f66-426f-9dd7-393e08c7cc1f"
      },
      "execution_count": 13,
      "outputs": [
        {
          "output_type": "stream",
          "name": "stdout",
          "text": [
            "1\n",
            "2\n",
            "3\n"
          ]
        }
      ]
    },
    {
      "cell_type": "code",
      "source": [
        "i = 0\n",
        "while i < 3:\n",
        "  i=i+1\n",
        "  print(i)"
      ],
      "metadata": {
        "colab": {
          "base_uri": "https://localhost:8080/"
        },
        "id": "Qt5oJJzQYF-d",
        "outputId": "c9c83343-67b2-4c63-a229-e81a478cecda"
      },
      "execution_count": 15,
      "outputs": [
        {
          "output_type": "stream",
          "name": "stdout",
          "text": [
            "1\n",
            "2\n",
            "3\n"
          ]
        }
      ]
    },
    {
      "cell_type": "markdown",
      "source": [
        "## 6. 함수"
      ],
      "metadata": {
        "id": "LD5GsfmWYRGw"
      }
    },
    {
      "cell_type": "code",
      "source": [
        "def add(a, b):\n",
        "  return a+b"
      ],
      "metadata": {
        "id": "V0IeI9vGYSmr"
      },
      "execution_count": 16,
      "outputs": []
    },
    {
      "cell_type": "code",
      "source": [
        "add(3,4)"
      ],
      "metadata": {
        "colab": {
          "base_uri": "https://localhost:8080/"
        },
        "id": "jSIYviA8YXsr",
        "outputId": "98312115-2bf0-41c4-ef9d-f6260d71dd82"
      },
      "execution_count": 17,
      "outputs": [
        {
          "output_type": "execute_result",
          "data": {
            "text/plain": [
              "7"
            ]
          },
          "metadata": {},
          "execution_count": 17
        }
      ]
    },
    {
      "cell_type": "markdown",
      "source": [
        "#  Python 제어문"
      ],
      "metadata": {
        "id": "L2VGdgh6Yf37"
      }
    },
    {
      "cell_type": "markdown",
      "source": [
        "## Python의 조건문(if)\n",
        "---\n"
      ],
      "metadata": {
        "id": "gSNypFWEcvC6"
      }
    },
    {
      "cell_type": "markdown",
      "source": [
        "다음과 같은 상상을 해보자.\n",
        "\n",
        "> \"돈이 있으면 택시를 타고, 돈이 없으면 걸어 간다.\"\n",
        "\n",
        "우리 모두에게 일어날 수 있는 상황 중 하나이다. 프로그래밍도 사람이 하는 것이므로 위 문장처럼 주어진 조건을 판단한 후 그 상황에 맞게 처리해야 할 경우가 생긴다. 이렇듯 프로그래밍에서 조건을 판단하여 해당 조건에 맞는 상황을 수행하는 데 쓰는 것이 바로 if문이다.\n",
        "\n",
        "위와 같은 상황을 파이썬에서는 다음과 같이 표현할 수 있다."
      ],
      "metadata": {
        "id": "Jmjd-9iVg-32"
      }
    },
    {
      "cell_type": "code",
      "source": [
        "money = True\n",
        "if money:\n",
        "  print(\"택시를 타고가라\")\n",
        "else:\n",
        "  print(\"걸어 가라\")"
      ],
      "metadata": {
        "colab": {
          "base_uri": "https://localhost:8080/"
        },
        "id": "obe-NAh4dVkr",
        "outputId": "c0ebf5e3-1ea9-47cf-8316-e619c7f001cf"
      },
      "execution_count": 19,
      "outputs": [
        {
          "output_type": "stream",
          "name": "stdout",
          "text": [
            "택시를 타고가라\n"
          ]
        }
      ]
    },
    {
      "cell_type": "markdown",
      "source": [
        "money에 True를 입력했으므로 money는 참이다. 따라서 if문 다음 문장이 수행되어 택시를 타고 가라'가 출력된다."
      ],
      "metadata": {
        "id": "p3rliDx0dbYD"
      }
    },
    {
      "cell_type": "markdown",
      "source": [
        "---\n",
        "- 파이썬에서는 들여쓰기(indentation) 규칙을 항상 지켜야 한다.\n",
        "- if 조건문을 사용하는 경우 콜론(:)을 반드시 사용해야 한다.\n",
        "---"
      ],
      "metadata": {
        "id": "FdLqS4ZAd8zq"
      }
    },
    {
      "cell_type": "markdown",
      "source": [
        "## Python의 조건문과 연산자\n",
        "---\n",
        "\n"
      ],
      "metadata": {
        "id": "gDMIKKxaep2K"
      }
    },
    {
      "cell_type": "markdown",
      "source": [
        "조건문에 비교연산자(<, >, ==, !=, >=, <=)를 쓰는 방법에 대해 알아보자.\n",
        "\n",
        "- x < y : x가 y보다 작다\n",
        "- x > y : x가 y보다 크다\n",
        "- x == y : x와 y가 같다\n",
        "- x != y : x와 y가 같지 않다\n",
        "- x >= y : x가 y보다 크거나 같다\n",
        "- x <= y : x가 y보다 작거나 같다"
      ],
      "metadata": {
        "id": "tzQyc18Xg8K6"
      }
    },
    {
      "cell_type": "code",
      "source": [
        "x = 3\n",
        "y = 2\n",
        "\n",
        "x != y"
      ],
      "metadata": {
        "colab": {
          "base_uri": "https://localhost:8080/"
        },
        "id": "-1ns-zRwfhqD",
        "outputId": "6fe50175-b9e3-46b2-ed76-ec26998e007b"
      },
      "execution_count": 21,
      "outputs": [
        {
          "output_type": "execute_result",
          "data": {
            "text/plain": [
              "True"
            ]
          },
          "metadata": {},
          "execution_count": 21
        }
      ]
    },
    {
      "cell_type": "markdown",
      "source": [
        "파이썬은 다른 프로그래밍 언어에서 쉽게 볼 수 없는 재미있는 조건문을 제공한다."
      ],
      "metadata": {
        "id": "DiLVvuEgfoT3"
      }
    },
    {
      "cell_type": "code",
      "source": [
        "1 in [1, 2, 3]"
      ],
      "metadata": {
        "colab": {
          "base_uri": "https://localhost:8080/"
        },
        "id": "N2pUMEWsgfDf",
        "outputId": "2f68be23-cd3b-4749-b0ec-92d8201c0a8e"
      },
      "execution_count": 23,
      "outputs": [
        {
          "output_type": "execute_result",
          "data": {
            "text/plain": [
              "True"
            ]
          },
          "metadata": {},
          "execution_count": 23
        }
      ]
    },
    {
      "cell_type": "code",
      "source": [
        "1 not in [1, 2, 3]"
      ],
      "metadata": {
        "colab": {
          "base_uri": "https://localhost:8080/"
        },
        "id": "t8yW0yT0gfi-",
        "outputId": "6155a61c-dc59-4720-a5b3-82fb2a6b8d0b"
      },
      "execution_count": 24,
      "outputs": [
        {
          "output_type": "execute_result",
          "data": {
            "text/plain": [
              "False"
            ]
          },
          "metadata": {},
          "execution_count": 24
        }
      ]
    },
    {
      "cell_type": "markdown",
      "source": [
        "앞에서 첫 번째 예는 \"[1, 2, 3]이라는 리스트 안에 1이 있는가?\" 조건문이다. 1은 [1, 2, 3] 안에 있으므로 참이 되어 True를 돌려준다. 두 번째 예는 \"[1, 2, 3] 리스트 안에 1이 없는가?\" 조건문이다. 1은 [1, 2, 3] 안에 있으므로 거짓이 되어 False를 돌려준다.\n",
        "\n",
        "이번에는 우리가 위 택시 예제에 in을 적용해 보자."
      ],
      "metadata": {
        "id": "tWRzocBygjG9"
      }
    },
    {
      "cell_type": "code",
      "source": [
        "pocket = ['paper', 'cellphone', 'money']\n",
        "if 'money' in pocket:\n",
        "  print(\"택시를 타고 가라\")\n",
        "else:\n",
        "  print(\"걸어가라\")"
      ],
      "metadata": {
        "colab": {
          "base_uri": "https://localhost:8080/"
        },
        "id": "mpgIH_hkglnR",
        "outputId": "3a756cda-aabf-4fb0-87ea-ff7bb0f59085"
      },
      "execution_count": 25,
      "outputs": [
        {
          "output_type": "stream",
          "name": "stdout",
          "text": [
            "택시를 타고 가라\n"
          ]
        }
      ]
    },
    {
      "cell_type": "markdown",
      "source": [
        "## Python의 반복문(for)\n",
        "---"
      ],
      "metadata": {
        "id": "uMdRu_aohFGN"
      }
    },
    {
      "cell_type": "markdown",
      "source": [
        "파이썬의 직관적인 특징을 가장 잘 대변해 주는 것이 for문이다. 파이썽늬 for문은 매우 유용하고 문장 구조가 한눈에 쏙 들어온다는 장점이 있다."
      ],
      "metadata": {
        "id": "fZlGcjgqhKUR"
      }
    },
    {
      "cell_type": "code",
      "source": [
        "test_list = ['one', 'two', 'three'] \n",
        "for i in test_list: \n",
        "  print(i)"
      ],
      "metadata": {
        "colab": {
          "base_uri": "https://localhost:8080/"
        },
        "id": "2ups4qa6hVGz",
        "outputId": "ae451ee1-d45b-4eeb-c6a3-971d2726f8c2"
      },
      "execution_count": 26,
      "outputs": [
        {
          "output_type": "stream",
          "name": "stdout",
          "text": [
            "one\n",
            "two\n",
            "three\n"
          ]
        }
      ]
    },
    {
      "cell_type": "markdown",
      "source": [
        "['one', 'two', 'three'] 리스트의 첫 번째 요소인 'one'이 먼저 i 변수에 대입된 후 print(i) 문장을 수행한다. 다음에 두 번째 요소 'two'가 i 변수에 대입된 후 print(i) 문장을 수행하고 리스트의 마지막 요소까지 이것을 반복한다.\n",
        "\n",
        "아래 예는 a 리스트의 요솟값들이 튜플이기 때문에 각각의 요소가 자동으로 (first, last) 변수에 대입된다."
      ],
      "metadata": {
        "id": "HY0GYxfehcTs"
      }
    },
    {
      "cell_type": "code",
      "source": [
        "a = [(1,2), (3,4), (5,6)]\n",
        "for (first, last) in a:\n",
        "  print(first + last)"
      ],
      "metadata": {
        "colab": {
          "base_uri": "https://localhost:8080/"
        },
        "id": "FzkAw9z7h0AQ",
        "outputId": "0114b01e-4646-4568-d05f-27b24f8586db"
      },
      "execution_count": 27,
      "outputs": [
        {
          "output_type": "stream",
          "name": "stdout",
          "text": [
            "3\n",
            "7\n",
            "11\n"
          ]
        }
      ]
    },
    {
      "cell_type": "markdown",
      "source": [
        "## Python for문의 응용\n",
        "---"
      ],
      "metadata": {
        "id": "FzlU_2xShe8b"
      }
    },
    {
      "cell_type": "markdown",
      "source": [
        "for문의 쓰임새를 알기 위해 다음을 가정해 보자.\n",
        "\n",
        "> \"총 5명의 학생이 시험을 보았는데 시험 점수가 60점이 넘으면 합격이고 그렇지 않으면 불합격이다. 합격인지 불합격인지 결과를 보여 주시오.\"\n",
        "\n",
        "우선 학생 5명의 시험 점수를 리스트로 표현하면 다음과 같다.\n",
        "marks = [90, 25, 67, 45, 80]"
      ],
      "metadata": {
        "id": "gOSf_5GliE4V"
      }
    },
    {
      "cell_type": "code",
      "source": [
        "marks = [90, 25, 67, 45, 80]\n",
        "\n",
        "number = 0 \n",
        "for mark in marks: \n",
        "  number = number +1 \n",
        "  if mark >= 60: \n",
        "    print(\"%d번 학생은 합격입니다.\" % number)\n",
        "  else: \n",
        "    print(\"%d번 학생은 불합격입니다.\" % number)"
      ],
      "metadata": {
        "colab": {
          "base_uri": "https://localhost:8080/"
        },
        "id": "Or23teIQiIKM",
        "outputId": "3ba22752-2719-49bd-f0d6-6738678e6204"
      },
      "execution_count": 28,
      "outputs": [
        {
          "output_type": "stream",
          "name": "stdout",
          "text": [
            "1번 학생은 합격입니다.\n",
            "2번 학생은 불합격입니다.\n",
            "3번 학생은 합격입니다.\n",
            "4번 학생은 불합격입니다.\n",
            "5번 학생은 합격입니다.\n"
          ]
        }
      ]
    },
    {
      "cell_type": "markdown",
      "source": [
        "각각의 학생에게 번호를 붙여 주기 위해 number 변수를 사용하였다. 점수 리스트 marks에서 차례로 점수를 꺼내어 mark라는 변수에 대입하고 for문 안의 문장들을 수행한다. 우선 for문이 한 번씩 수행될 때마다 number는 1씩 증가한다.\n",
        "\n",
        "이 프로그램을 실행하면 mark가 60 이상일 때 합격 메시지를 출력하고 60을 넘지 않을 때 불합격 메시지를 출력한다."
      ],
      "metadata": {
        "id": "9t266mZ_iYFm"
      }
    },
    {
      "cell_type": "markdown",
      "source": [
        "---\n",
        "for문은 숫자 리스트를 자동으로 만들어 주는 range 함수와 함께 사용하는 경우가 많다. 다음은 range 함수의 간단한 사용법이다."
      ],
      "metadata": {
        "id": "2jlvmo1CiaRR"
      }
    },
    {
      "cell_type": "code",
      "source": [
        "a = range(10)\n",
        "a"
      ],
      "metadata": {
        "colab": {
          "base_uri": "https://localhost:8080/"
        },
        "id": "fcm1-gEKikE4",
        "outputId": "8d2d7c97-5745-440d-9101-952da50de307"
      },
      "execution_count": 29,
      "outputs": [
        {
          "output_type": "execute_result",
          "data": {
            "text/plain": [
              "range(0, 10)"
            ]
          },
          "metadata": {},
          "execution_count": 29
        }
      ]
    },
    {
      "cell_type": "markdown",
      "source": [
        "range(10)은 0부터 10 미만의 숫자를 포함하는 range 객체를 만들어 준다.\n",
        "\n",
        "시작 숫자와 끝 숫자를 지정하려면 range(시작 숫자, 끝 숫자) 형태를 사용하는데, 이때 끝 숫자는 포함되지 않는다.\n",
        "\n",
        "for와 range 함수를 사용하면 1부터 10까지 더하는 것을 다음과 같이 쉽게 구현할 수 있다."
      ],
      "metadata": {
        "id": "DBwQdpV4imtB"
      }
    },
    {
      "cell_type": "code",
      "source": [
        "add = 0 \n",
        "for i in range(1, 11): \n",
        "  add = add + i \n",
        "print(add)"
      ],
      "metadata": {
        "colab": {
          "base_uri": "https://localhost:8080/"
        },
        "id": "leNcRVZOipbi",
        "outputId": "1ed6a6fd-ad08-4615-dbf4-64f70e840266"
      },
      "execution_count": 32,
      "outputs": [
        {
          "output_type": "stream",
          "name": "stdout",
          "text": [
            "55\n"
          ]
        }
      ]
    },
    {
      "cell_type": "markdown",
      "source": [
        "range(1, 11)은 숫자 1부터 10까지(1 이상 11 미만)의 숫자를 데이터로 갖는 객체이다. 따라서 위 예에서 i 변수에 리스트의 숫자가 1부터 10까지 하나씩 차례로 대입되면서 add = add + i 문장을 반복적으로 수행하고 add는 최종적으로 55가 된다."
      ],
      "metadata": {
        "id": "K8gDFSCgixBH"
      }
    },
    {
      "cell_type": "markdown",
      "source": [
        "# Python 함수\n",
        "---\n"
      ],
      "metadata": {
        "id": "p_s1YJj6jEf5"
      }
    },
    {
      "cell_type": "markdown",
      "source": [
        "파이썬 함수의 구조는 다음과 같다.\n",
        "```\n",
        "def 함수명(매개변수):\n",
        "    <수행할 문장1>\n",
        "    <수행할 문장2>\n",
        "    ...\n",
        "```"
      ],
      "metadata": {
        "id": "PLLdBOBljHXa"
      }
    },
    {
      "cell_type": "markdown",
      "source": [
        "def는 함수를 만들 때 사용하는 예약어이며, 함수 이름은 함수를 만드는 사람이 임의로 만들 수 있다. 함수 이름 뒤 괄호 안의 매개변수는 이 함수에 입력으로 전달되는 값을 받는 변수이다. 이렇게 함수를 정의한 다음 if, for문 등과 마찬가지로 함수에서 수행할 문장을 입력한다."
      ],
      "metadata": {
        "id": "-e70EpFSjNdm"
      }
    },
    {
      "cell_type": "code",
      "source": [
        "def add(a, b): \n",
        "    return a + b"
      ],
      "metadata": {
        "id": "xBcPywmZjcNk"
      },
      "execution_count": 34,
      "outputs": []
    },
    {
      "cell_type": "markdown",
      "source": [
        "위 함수는 다음과 같이 풀이된다.\n",
        "\n",
        "> \"이 함수의 이름(함수 이름)은 add이고 입력으로 2개의 값을 받으며 결괏값은 2개의 입력값을 더한 값이다.\"\n",
        "\n",
        "여기에서 return은 함수의 결괏값을 돌려주는 명령어이다. 먼저 다음과 같이 add 함수를 만들자."
      ],
      "metadata": {
        "id": "jJR2rfgOjhTq"
      }
    },
    {
      "cell_type": "code",
      "source": [
        "def add(a, b):\n",
        "  return a+b"
      ],
      "metadata": {
        "id": "BFuZRlqRjjEg"
      },
      "execution_count": 35,
      "outputs": []
    },
    {
      "cell_type": "code",
      "source": [
        "a = 3\n",
        "b = 4\n",
        "c = add(a,b)\n",
        "print(c)"
      ],
      "metadata": {
        "colab": {
          "base_uri": "https://localhost:8080/"
        },
        "id": "rxk6Gy-BjqHk",
        "outputId": "5f233272-01c6-40fe-d052-2c900803bb91"
      },
      "execution_count": 36,
      "outputs": [
        {
          "output_type": "stream",
          "name": "stdout",
          "text": [
            "7\n"
          ]
        }
      ]
    },
    {
      "cell_type": "markdown",
      "source": [
        "변수 a에 3, b에 4를 대입한 다음 앞에서 만든 add 함수에 a와 b를 입력값으로 넣어 준다. 그리고 변수 c에 add 함수의 결괏값을 대입하면 print(c)로 c의 값을 확인할 수 있다."
      ],
      "metadata": {
        "id": "VZuh3rj1jueU"
      }
    },
    {
      "cell_type": "markdown",
      "source": [
        "---"
      ],
      "metadata": {
        "id": "eFACwA59jwbo"
      }
    },
    {
      "cell_type": "markdown",
      "source": [
        "매개변수(parameter)와 인수(arguments)는 혼용해서 사용되는 헷갈리는 용어이므로 잘 기억해 두자. 매개변수는 함수에 입력으로 전달된 값을 받는 변수를 의미하고 인수는 함수를 호출할 때 전달하는 입력값을 의미한다.\n",
        "\n",
        "```\n",
        "def add(a, b):  # a, b는 매개변수\n",
        "    return a+b\n",
        "\n",
        "print(add(3, 4))  # 3, 4는 인수\n",
        "```"
      ],
      "metadata": {
        "id": "Vh_j-PCDjy0Z"
      }
    }
  ]
}